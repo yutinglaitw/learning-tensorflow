{
  "nbformat": 4,
  "nbformat_minor": 0,
  "metadata": {
    "colab": {
      "name": "Untitled2.ipynb",
      "version": "0.3.2",
      "provenance": [],
      "include_colab_link": true
    },
    "kernelspec": {
      "name": "python3",
      "display_name": "Python 3"
    }
  },
  "cells": [
    {
      "cell_type": "markdown",
      "metadata": {
        "id": "view-in-github",
        "colab_type": "text"
      },
      "source": [
        "[View in Colaboratory](https://colab.research.google.com/github/yutinglaitw/learning-tensorflow/blob/master/0_Usage/config.ipynb)"
      ]
    },
    {
      "metadata": {
        "id": "Scco_Rtp_MNk",
        "colab_type": "text"
      },
      "cell_type": "markdown",
      "source": [
        "# Tensorflow Config\n",
        "Detail: https://github.com/tensorflow/tensorflow/blob/r1.8/tensorflow/core/protobuf/config.proto"
      ]
    },
    {
      "metadata": {
        "id": "X_dWseUd_LOH",
        "colab_type": "code",
        "colab": {}
      },
      "cell_type": "code",
      "source": [
        "import tensorflow as tf\n",
        "\n",
        "# Session config\n",
        "config = tf.ConfigProto(allow_soft_placement=True)\n",
        "\n",
        "sess1 = tf.InteractiveSession(config=config)\n",
        "sess2 = tf.Session(config=config)"
      ],
      "execution_count": 0,
      "outputs": []
    },
    {
      "metadata": {
        "id": "f3Nq1WOn_SsN",
        "colab_type": "text"
      },
      "cell_type": "markdown",
      "source": [
        "### 常見設定參數"
      ]
    },
    {
      "metadata": {
        "id": "n_3dEB5uALyf",
        "colab_type": "code",
        "colab": {}
      },
      "cell_type": "code",
      "source": [
        "# 當運算無法在GPU上執行時放到CPU上執行，預設為False，可讓程式順利執行而非噴錯\n",
        "allow_soft_placement=True\n",
        "\n",
        "# 記錄每個節點安排在哪個裝置上，生產環境中設為False以減少日誌量\n",
        "log_device_placement=True"
      ],
      "execution_count": 0,
      "outputs": []
    },
    {
      "metadata": {
        "id": "pxSQAFPJBRu9",
        "colab_type": "text"
      },
      "cell_type": "markdown",
      "source": [
        "### 控制 GPU 資源使用\n",
        "\n",
        "TF預設會把GPU的記憶體全部預占滿，如果不希望占滿就要設定比例或成長 (但如果成長時OOM會錯誤)"
      ]
    },
    {
      "metadata": {
        "id": "Lmb1sP6WBotI",
        "colab_type": "code",
        "colab": {}
      },
      "cell_type": "code",
      "source": [
        "# 寫法1\n",
        "config = tf.ConfigProto()  \n",
        "config.gpu_options.per_process_gpu_memory_fraction = 0.4  #占用40%記憶體  \n",
        "config.gpu_options.allow_growth = True # 需要時才占用\n",
        "session = tf.Session(config=config) \n",
        "\n",
        "# 寫法2\n",
        "gpu_options=tf.GPUOptions(per_process_gpu_memory_fraction=0.4)  \n",
        "config=tf.ConfigProto(gpu_options=gpu_options)  \n",
        "session = tf.Session(config=config)  "
      ],
      "execution_count": 0,
      "outputs": []
    }
  ]
}