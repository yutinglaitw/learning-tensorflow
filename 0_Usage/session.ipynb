{
  "nbformat": 4,
  "nbformat_minor": 0,
  "metadata": {
    "colab": {
      "name": "session.ipynb",
      "version": "0.3.2",
      "views": {},
      "default_view": {},
      "provenance": [],
      "collapsed_sections": []
    },
    "kernelspec": {
      "name": "python3",
      "display_name": "Python 3"
    },
    "accelerator": "GPU"
  },
  "cells": [
    {
      "metadata": {
        "id": "1p5MhQbLELPg",
        "colab_type": "text"
      },
      "cell_type": "markdown",
      "source": [
        "# Session"
      ]
    },
    {
      "metadata": {
        "id": "7ikBsjqGDzZQ",
        "colab_type": "code",
        "colab": {
          "autoexec": {
            "startup": false,
            "wait_interval": 0
          }
        }
      },
      "cell_type": "code",
      "source": [
        "import tensorflow as tf\n",
        "x = tf.Variable(3, name='x')\n",
        "y = tf.Variable(4, name='y')\n",
        "z = x * y\n",
        "\n",
        "init = tf.global_variables_initializer()"
      ],
      "execution_count": 0,
      "outputs": []
    },
    {
      "metadata": {
        "id": "QjZxmAsXFXco",
        "colab_type": "code",
        "colab": {
          "autoexec": {
            "startup": false,
            "wait_interval": 0
          },
          "base_uri": "https://localhost:8080/",
          "height": 34
        },
        "outputId": "9ee1685b-f0ef-49d5-d021-412e06f847cc",
        "executionInfo": {
          "status": "ok",
          "timestamp": 1529077805389,
          "user_tz": -480,
          "elapsed": 581,
          "user": {
            "displayName": "Yuting Lai",
            "photoUrl": "//lh3.googleusercontent.com/-PidYfEXH9DU/AAAAAAAAAAI/AAAAAAAAAQY/oj6YlAXPQVE/s50-c-k-no/photo.jpg",
            "userId": "101151714820911112398"
          }
        }
      },
      "cell_type": "code",
      "source": [
        "# usage 1\n",
        "sess = tf.Session()\n",
        "\n",
        "sess.run(init)\n",
        "print(sess.run(z))\n",
        "\n",
        "sess.close()"
      ],
      "execution_count": 28,
      "outputs": [
        {
          "output_type": "stream",
          "text": [
            "12\n"
          ],
          "name": "stdout"
        }
      ]
    },
    {
      "metadata": {
        "id": "ZMM3RyjNFX5m",
        "colab_type": "code",
        "colab": {
          "autoexec": {
            "startup": false,
            "wait_interval": 0
          },
          "base_uri": "https://localhost:8080/",
          "height": 34
        },
        "outputId": "83b7c248-e7ed-494a-bc05-2159b628e6b4",
        "executionInfo": {
          "status": "ok",
          "timestamp": 1529077256554,
          "user_tz": -480,
          "elapsed": 584,
          "user": {
            "displayName": "Yuting Lai",
            "photoUrl": "//lh3.googleusercontent.com/-PidYfEXH9DU/AAAAAAAAAAI/AAAAAAAAAQY/oj6YlAXPQVE/s50-c-k-no/photo.jpg",
            "userId": "101151714820911112398"
          }
        }
      },
      "cell_type": "code",
      "source": [
        "# usage 2\n",
        "with tf.Session() as sess:\n",
        "    sess.run(init)\n",
        "    print(sess.run(z))"
      ],
      "execution_count": 14,
      "outputs": [
        {
          "output_type": "stream",
          "text": [
            "12\n"
          ],
          "name": "stdout"
        }
      ]
    },
    {
      "metadata": {
        "id": "2FGeBl4lERwk",
        "colab_type": "text"
      },
      "cell_type": "markdown",
      "source": [
        "# InteractiveSession\n",
        "\n",
        "預設為默認session，就不用再打sess.run()了，可直接執行 tf.Operation.run 和 tf.Tensor.eval"
      ]
    },
    {
      "metadata": {
        "id": "yoFbEI2EFycW",
        "colab_type": "code",
        "colab": {
          "autoexec": {
            "startup": false,
            "wait_interval": 0
          },
          "base_uri": "https://localhost:8080/",
          "height": 88
        },
        "outputId": "8eea39e3-3197-4a09-a3e5-6601a5205711",
        "executionInfo": {
          "status": "ok",
          "timestamp": 1529078020388,
          "user_tz": -480,
          "elapsed": 627,
          "user": {
            "displayName": "Yuting Lai",
            "photoUrl": "//lh3.googleusercontent.com/-PidYfEXH9DU/AAAAAAAAAAI/AAAAAAAAAQY/oj6YlAXPQVE/s50-c-k-no/photo.jpg",
            "userId": "101151714820911112398"
          }
        }
      },
      "cell_type": "code",
      "source": [
        "import tensorflow as tf\n",
        "x = tf.Variable(3, name='x')\n",
        "y = tf.Variable(4, name='y')\n",
        "z = x * y\n",
        "\n",
        "\n",
        "sess = tf.InteractiveSession()\n",
        "\n",
        "tf.global_variables_initializer().run()\n",
        "print(z.eval())\n",
        "\n",
        "sess.close()"
      ],
      "execution_count": 39,
      "outputs": [
        {
          "output_type": "stream",
          "text": [
            "12\n"
          ],
          "name": "stdout"
        },
        {
          "output_type": "stream",
          "text": [
            "/usr/local/lib/python3.6/dist-packages/tensorflow/python/client/session.py:1711: UserWarning: An interactive session is already active. This can cause out-of-memory errors in some cases. You must explicitly call `InteractiveSession.close()` to release resources held by the other session(s).\n",
            "  warnings.warn('An interactive session is already active. This can '\n"
          ],
          "name": "stderr"
        }
      ]
    },
    {
      "metadata": {
        "id": "vu7UMuY9HLye",
        "colab_type": "text"
      },
      "cell_type": "markdown",
      "source": [
        "# as_default\n",
        "session 透過 as_default 也可以有一樣的效果"
      ]
    },
    {
      "metadata": {
        "id": "Oj-yNbugEZNF",
        "colab_type": "code",
        "colab": {
          "autoexec": {
            "startup": false,
            "wait_interval": 0
          },
          "base_uri": "https://localhost:8080/",
          "height": 34
        },
        "outputId": "8a2daeee-acf4-4183-b888-6dc8a921d34c",
        "executionInfo": {
          "status": "ok",
          "timestamp": 1529078001499,
          "user_tz": -480,
          "elapsed": 718,
          "user": {
            "displayName": "Yuting Lai",
            "photoUrl": "//lh3.googleusercontent.com/-PidYfEXH9DU/AAAAAAAAAAI/AAAAAAAAAQY/oj6YlAXPQVE/s50-c-k-no/photo.jpg",
            "userId": "101151714820911112398"
          }
        }
      },
      "cell_type": "code",
      "source": [
        "import tensorflow as tf\n",
        "x = tf.Variable(3, name='x')\n",
        "y = tf.Variable(4, name='y')\n",
        "z = x * y\n",
        "\n",
        "sess = tf.Session()\n",
        "\n",
        "with sess.as_default():\n",
        "    tf.global_variables_initializer().run()\n",
        "    print(z.eval())"
      ],
      "execution_count": 38,
      "outputs": [
        {
          "output_type": "stream",
          "text": [
            "12\n"
          ],
          "name": "stdout"
        }
      ]
    },
    {
      "metadata": {
        "id": "t9ZF1sQlJxAO",
        "colab_type": "code",
        "colab": {
          "autoexec": {
            "startup": false,
            "wait_interval": 0
          }
        }
      },
      "cell_type": "code",
      "source": [
        ""
      ],
      "execution_count": 0,
      "outputs": []
    }
  ]
}