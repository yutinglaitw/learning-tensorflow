{
  "nbformat": 4,
  "nbformat_minor": 0,
  "metadata": {
    "colab": {
      "name": "neural_network.ipynb",
      "version": "0.3.2",
      "views": {},
      "default_view": {},
      "provenance": []
    },
    "kernelspec": {
      "name": "python3",
      "display_name": "Python 3"
    },
    "accelerator": "GPU"
  },
  "cells": [
    {
      "metadata": {
        "id": "shCEL9YozoxR",
        "colab_type": "text"
      },
      "cell_type": "markdown",
      "source": [
        "# Neural Network Example\n",
        "\n",
        "實作多層感知機 (Multi-Layer Perceptron, MLP) \n",
        "\n",
        "以 MNIST 為例實作一個有兩層隱含層的 Fully Connected Network\n"
      ]
    },
    {
      "metadata": {
        "id": "tXzmRIlY3o29",
        "colab_type": "text"
      },
      "cell_type": "markdown",
      "source": [
        "## Load MNIST dataset"
      ]
    },
    {
      "metadata": {
        "id": "cp8NoucWx8hW",
        "colab_type": "code",
        "colab": {
          "autoexec": {
            "startup": false,
            "wait_interval": 0
          },
          "base_uri": "https://localhost:8080/",
          "height": 85
        },
        "outputId": "179cde83-2657-415f-fa22-c998c3b807da",
        "executionInfo": {
          "status": "ok",
          "timestamp": 1529247341287,
          "user_tz": -480,
          "elapsed": 1111,
          "user": {
            "displayName": "Yuting Lai",
            "photoUrl": "//lh3.googleusercontent.com/-PidYfEXH9DU/AAAAAAAAAAI/AAAAAAAAAQY/oj6YlAXPQVE/s50-c-k-no/photo.jpg",
            "userId": "101151714820911112398"
          }
        }
      },
      "cell_type": "code",
      "source": [
        "from tensorflow.examples.tutorials.mnist import input_data\n",
        "mnist = input_data.read_data_sets(\"MNIST_data/\", one_hot=True)"
      ],
      "execution_count": 2,
      "outputs": [
        {
          "output_type": "stream",
          "text": [
            "Extracting MNIST_data/train-images-idx3-ubyte.gz\n",
            "Extracting MNIST_data/train-labels-idx1-ubyte.gz\n",
            "Extracting MNIST_data/t10k-images-idx3-ubyte.gz\n",
            "Extracting MNIST_data/t10k-labels-idx1-ubyte.gz\n"
          ],
          "name": "stdout"
        }
      ]
    },
    {
      "metadata": {
        "id": "dYRIuKEa4Dtn",
        "colab_type": "text"
      },
      "cell_type": "markdown",
      "source": [
        "## 2-Layer Neural Network"
      ]
    },
    {
      "metadata": {
        "id": "ZzuF_YiXM8yI",
        "colab_type": "code",
        "colab": {
          "autoexec": {
            "startup": false,
            "wait_interval": 0
          }
        }
      },
      "cell_type": "code",
      "source": [
        "import tensorflow as tf\n",
        "sess = tf.InteractiveSession()"
      ],
      "execution_count": 0,
      "outputs": []
    },
    {
      "metadata": {
        "id": "5tFHRdqW_ovB",
        "colab_type": "code",
        "colab": {
          "autoexec": {
            "startup": false,
            "wait_interval": 0
          }
        }
      },
      "cell_type": "code",
      "source": [
        "# Network Parameters\n",
        "input_units = 784 # MNIST input (28*28=784)\n",
        "h1_units = 256\n",
        "h2_units = 256\n",
        "output_units = 10\n",
        "\n",
        "# Training Parameters\n",
        "learning_rate = 0.001\n",
        "epochs = 5\n",
        "batch_size = 100\n",
        "num_batch = 1000"
      ],
      "execution_count": 0,
      "outputs": []
    },
    {
      "metadata": {
        "id": "1_O62H6C9x8x",
        "colab_type": "code",
        "colab": {
          "autoexec": {
            "startup": false,
            "wait_interval": 0
          }
        }
      },
      "cell_type": "code",
      "source": [
        "# Input\n",
        "X = tf.placeholder(tf.float32, [None, input_units])\n",
        "Y = tf.placeholder(tf.float32, [None, output_units])\n",
        "keep_prob = tf.placeholder(tf.float32)\n",
        "\n",
        "# Store layers weight & bias\n",
        "weights = {\n",
        "    'h1': tf.Variable(tf.random_normal([input_units, h1_units])),\n",
        "    'h2': tf.Variable(tf.random_normal([h1_units, h2_units])),\n",
        "    'out': tf.Variable(tf.random_normal([h2_units, output_units]))\n",
        "}\n",
        "biases = {\n",
        "    'b1': tf.Variable(tf.random_normal([h1_units])),\n",
        "    'b2': tf.Variable(tf.random_normal([h2_units])),\n",
        "    'out': tf.Variable(tf.random_normal([output_units]))\n",
        "}"
      ],
      "execution_count": 0,
      "outputs": []
    },
    {
      "metadata": {
        "id": "FFM-OdWC8yID",
        "colab_type": "code",
        "colab": {
          "autoexec": {
            "startup": false,
            "wait_interval": 0
          }
        }
      },
      "cell_type": "code",
      "source": [
        "# Hidden layer 1\n",
        "hidden1 = tf.matmul(X, weights['h1']) + biases['b1']\n",
        "hidden1_drop = tf.nn.dropout(hidden1, keep_prob)\n",
        "\n",
        "# Hidden layer 2\n",
        "hidden2 = tf.matmul(hidden1_drop, weights['h2']) + biases['b2']\n",
        "hidden2_drop = tf.nn.dropout(hidden2, keep_prob)\n",
        "\n",
        "# Output layer\n",
        "prediction = tf.matmul(hidden2_drop, weights['out']) + biases['out']"
      ],
      "execution_count": 0,
      "outputs": []
    },
    {
      "metadata": {
        "id": "oBTkwSgk80vs",
        "colab_type": "code",
        "colab": {
          "autoexec": {
            "startup": false,
            "wait_interval": 0
          }
        }
      },
      "cell_type": "code",
      "source": [
        "# Loss function (cross entropy)\n",
        "loss_op = tf.reduce_mean(tf.nn.softmax_cross_entropy_with_logits(logits=prediction, labels=Y))\n",
        "\n",
        "# Optimizer\n",
        "optimizer = tf.train.AdamOptimizer(learning_rate=learning_rate)\n",
        "train_step = optimizer.minimize(loss_op)"
      ],
      "execution_count": 0,
      "outputs": []
    },
    {
      "metadata": {
        "id": "7qDzOzMK-T0K",
        "colab_type": "text"
      },
      "cell_type": "markdown",
      "source": [
        "## Training"
      ]
    },
    {
      "metadata": {
        "id": "WyitUOH481_X",
        "colab_type": "code",
        "colab": {
          "autoexec": {
            "startup": false,
            "wait_interval": 0
          }
        }
      },
      "cell_type": "code",
      "source": [
        "tf.global_variables_initializer().run()\n",
        "\n",
        "for epoch in range(epochs):\n",
        "    for i in range(num_batch):\n",
        "        batch_x, batch_y = mnist.train.next_batch(batch_size)\n",
        "        train_step.run(feed_dict={X: batch_x, Y: batch_y, keep_prob: 0.75})"
      ],
      "execution_count": 0,
      "outputs": []
    },
    {
      "metadata": {
        "id": "k5l19BNC-GWL",
        "colab_type": "text"
      },
      "cell_type": "markdown",
      "source": [
        "## Predict"
      ]
    },
    {
      "metadata": {
        "id": "BJU7oAId3co1",
        "colab_type": "code",
        "colab": {
          "autoexec": {
            "startup": false,
            "wait_interval": 0
          },
          "base_uri": "https://localhost:8080/",
          "height": 34
        },
        "outputId": "237d361d-2d77-414c-b152-d3d17edb84df",
        "executionInfo": {
          "status": "ok",
          "timestamp": 1529247375982,
          "user_tz": -480,
          "elapsed": 615,
          "user": {
            "displayName": "Yuting Lai",
            "photoUrl": "//lh3.googleusercontent.com/-PidYfEXH9DU/AAAAAAAAAAI/AAAAAAAAAQY/oj6YlAXPQVE/s50-c-k-no/photo.jpg",
            "userId": "101151714820911112398"
          }
        }
      },
      "cell_type": "code",
      "source": [
        "test_prediction = tf.equal(tf.argmax(prediction, 1), tf.argmax(Y, 1))\n",
        "accuracy = tf.reduce_mean(tf.cast(test_prediction, tf.float32))\n",
        "\n",
        "print(\"Testing Accuracy:\", accuracy.eval(feed_dict={X: mnist.test.images,\n",
        "                                                    Y: mnist.test.labels,\n",
        "                                                    keep_prob: 1.0}))"
      ],
      "execution_count": 9,
      "outputs": [
        {
          "output_type": "stream",
          "text": [
            "Testing Accuracy: 0.919\n"
          ],
          "name": "stdout"
        }
      ]
    }
  ]
}