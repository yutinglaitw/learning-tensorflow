{
  "nbformat": 4,
  "nbformat_minor": 0,
  "metadata": {
    "colab": {
      "name": "neural_network_layer.ipynb",
      "version": "0.3.2",
      "provenance": [],
      "include_colab_link": true
    },
    "kernelspec": {
      "name": "python3",
      "display_name": "Python 3"
    },
    "accelerator": "GPU"
  },
  "cells": [
    {
      "cell_type": "markdown",
      "metadata": {
        "id": "view-in-github",
        "colab_type": "text"
      },
      "source": [
        "[View in Colaboratory](https://colab.research.google.com/github/yutinglaitw/learning-tensorflow/blob/master/2_NeuralNetworks/neural_network_layer.ipynb)"
      ]
    },
    {
      "metadata": {
        "id": "shCEL9YozoxR",
        "colab_type": "text"
      },
      "cell_type": "markdown",
      "source": [
        "# Neural Network Example\n",
        "\n",
        "用 tf.layer 實作多層感知機 (Multi-Layer Perceptron, MLP) \n",
        "\n",
        "以 MNIST 為例實作一個有兩層隱含層的 Fully Connected Network\n"
      ]
    },
    {
      "metadata": {
        "id": "tXzmRIlY3o29",
        "colab_type": "text"
      },
      "cell_type": "markdown",
      "source": [
        "## Load MNIST dataset"
      ]
    },
    {
      "metadata": {
        "id": "cp8NoucWx8hW",
        "colab_type": "code",
        "colab": {
          "base_uri": "https://localhost:8080/",
          "height": 85
        },
        "outputId": "9c156358-8464-4363-ae73-ee604b631f9a"
      },
      "cell_type": "code",
      "source": [
        "import tensorflow as tf\n",
        "from tensorflow.examples.tutorials.mnist import input_data\n",
        "mnist = input_data.read_data_sets(\"MNIST_data/\", one_hot=False)"
      ],
      "execution_count": 42,
      "outputs": [
        {
          "output_type": "stream",
          "text": [
            "Extracting MNIST_data/train-images-idx3-ubyte.gz\n",
            "Extracting MNIST_data/train-labels-idx1-ubyte.gz\n",
            "Extracting MNIST_data/t10k-images-idx3-ubyte.gz\n",
            "Extracting MNIST_data/t10k-labels-idx1-ubyte.gz\n"
          ],
          "name": "stdout"
        }
      ]
    },
    {
      "metadata": {
        "id": "dYRIuKEa4Dtn",
        "colab_type": "text"
      },
      "cell_type": "markdown",
      "source": [
        "## 2-Layer Neural Network"
      ]
    },
    {
      "metadata": {
        "id": "5tFHRdqW_ovB",
        "colab_type": "code",
        "colab": {}
      },
      "cell_type": "code",
      "source": [
        "# Network Parameters\n",
        "h1_units = 256\n",
        "h2_units = 256\n",
        "num_classes = 10\n",
        "\n",
        "# Training Parameters\n",
        "learning_rate = 0.001\n",
        "epochs = 1000\n",
        "batch_size = 100"
      ],
      "execution_count": 0,
      "outputs": []
    },
    {
      "metadata": {
        "id": "FFM-OdWC8yID",
        "colab_type": "code",
        "colab": {}
      },
      "cell_type": "code",
      "source": [
        "def neural_network(x):\n",
        "    # Hidden layer 1\n",
        "    hidden1 = tf.layers.dense(x, h1_units)\n",
        "\n",
        "    # Hidden layer 2\n",
        "    hidden2 = tf.layers.dense(hidden1, h2_units)\n",
        "\n",
        "    # Output layer\n",
        "    out_layer = tf.layers.dense(hidden2, num_classes)\n",
        "    return out_layer"
      ],
      "execution_count": 0,
      "outputs": []
    },
    {
      "metadata": {
        "id": "9-Fik5XVsjq3",
        "colab_type": "code",
        "colab": {}
      },
      "cell_type": "code",
      "source": [
        "# Define the model function (following TF Estimator Template)\n",
        "def model_fn(features, labels, mode):\n",
        "    \n",
        "    # Build the neural network\n",
        "    logits = neural_network(features)\n",
        "    \n",
        "    # Predictions\n",
        "    pred_classes = tf.argmax(logits, axis=1)\n",
        "    pred_probas = tf.nn.softmax(logits)\n",
        "    \n",
        "    # If prediction mode, early return\n",
        "    if mode == tf.estimator.ModeKeys.PREDICT:\n",
        "        return tf.estimator.EstimatorSpec(mode, predictions=pred_classes) \n",
        "        \n",
        "    # Define loss and optimizer\n",
        "    loss_op = tf.reduce_mean(tf.nn.sparse_softmax_cross_entropy_with_logits(\n",
        "        logits=logits, labels=tf.cast(labels, dtype=tf.int32)))\n",
        "    optimizer = tf.train.GradientDescentOptimizer(learning_rate=learning_rate)\n",
        "    train_op = optimizer.minimize(loss_op, global_step=tf.train.get_global_step())\n",
        "    \n",
        "    # Evaluate the accuracy of the model\n",
        "    acc_op = tf.metrics.accuracy(labels=labels, predictions=pred_classes)\n",
        "    \n",
        "    # TF Estimators requires to return a EstimatorSpec, that specify\n",
        "    # the different ops for training, evaluating, ...\n",
        "    estim_specs = tf.estimator.EstimatorSpec(\n",
        "      mode=mode,\n",
        "      predictions=pred_classes,\n",
        "      loss=loss_op,\n",
        "      train_op=train_op,\n",
        "      eval_metric_ops={'accuracy': acc_op})\n",
        "\n",
        "    return estim_specs"
      ],
      "execution_count": 0,
      "outputs": []
    },
    {
      "metadata": {
        "id": "UJxaKIoltgvn",
        "colab_type": "code",
        "colab": {
          "base_uri": "https://localhost:8080/",
          "height": 88
        },
        "outputId": "6577504d-a79a-4a75-f4ea-bf72f08b4af8"
      },
      "cell_type": "code",
      "source": [
        "# Build the Estimator\n",
        "model = tf.estimator.Estimator(model_fn)"
      ],
      "execution_count": 46,
      "outputs": [
        {
          "output_type": "stream",
          "text": [
            "INFO:tensorflow:Using default config.\n",
            "WARNING:tensorflow:Using temporary folder as model directory: /tmp/tmpud5xeuqm\n",
            "INFO:tensorflow:Using config: {'_model_dir': '/tmp/tmpud5xeuqm', '_tf_random_seed': None, '_save_summary_steps': 100, '_save_checkpoints_steps': None, '_save_checkpoints_secs': 600, '_session_config': None, '_keep_checkpoint_max': 5, '_keep_checkpoint_every_n_hours': 10000, '_log_step_count_steps': 100, '_train_distribute': None, '_device_fn': None, '_service': None, '_cluster_spec': <tensorflow.python.training.server_lib.ClusterSpec object at 0x7fbf85a5cba8>, '_task_type': 'worker', '_task_id': 0, '_global_id_in_cluster': 0, '_master': '', '_evaluation_master': '', '_is_chief': True, '_num_ps_replicas': 0, '_num_worker_replicas': 1}\n"
          ],
          "name": "stdout"
        }
      ]
    },
    {
      "metadata": {
        "id": "7qDzOzMK-T0K",
        "colab_type": "text"
      },
      "cell_type": "markdown",
      "source": [
        "## Training"
      ]
    },
    {
      "metadata": {
        "id": "WyitUOH481_X",
        "colab_type": "code",
        "colab": {
          "base_uri": "https://localhost:8080/",
          "height": 510
        },
        "outputId": "5b6feffd-1c14-4581-dc2b-99d6137a2fe5"
      },
      "cell_type": "code",
      "source": [
        "# Define the input function for training\n",
        "input_fn = tf.estimator.inputs.numpy_input_fn(\n",
        "    x=mnist.train.images, y=mnist.train.labels,\n",
        "    batch_size=batch_size, num_epochs=None, shuffle=True)\n",
        "\n",
        "# Train the Model# Train \n",
        "model.train(input_fn, steps=epochs)"
      ],
      "execution_count": 47,
      "outputs": [
        {
          "output_type": "stream",
          "text": [
            "INFO:tensorflow:Calling model_fn.\n",
            "INFO:tensorflow:Done calling model_fn.\n",
            "INFO:tensorflow:Create CheckpointSaverHook.\n",
            "INFO:tensorflow:Graph was finalized.\n",
            "INFO:tensorflow:Running local_init_op.\n",
            "INFO:tensorflow:Done running local_init_op.\n",
            "INFO:tensorflow:Saving checkpoints for 0 into /tmp/tmpud5xeuqm/model.ckpt.\n",
            "INFO:tensorflow:loss = 2.3302343, step = 0\n",
            "INFO:tensorflow:global_step/sec: 390.417\n",
            "INFO:tensorflow:loss = 2.0011423, step = 100 (0.259 sec)\n",
            "INFO:tensorflow:global_step/sec: 407.075\n",
            "INFO:tensorflow:loss = 1.7711937, step = 200 (0.247 sec)\n",
            "INFO:tensorflow:global_step/sec: 445.427\n",
            "INFO:tensorflow:loss = 1.587053, step = 300 (0.225 sec)\n",
            "INFO:tensorflow:global_step/sec: 405.145\n",
            "INFO:tensorflow:loss = 1.5098169, step = 400 (0.246 sec)\n",
            "INFO:tensorflow:global_step/sec: 416.733\n",
            "INFO:tensorflow:loss = 1.2850122, step = 500 (0.241 sec)\n",
            "INFO:tensorflow:global_step/sec: 443.47\n",
            "INFO:tensorflow:loss = 1.29993, step = 600 (0.225 sec)\n",
            "INFO:tensorflow:global_step/sec: 405.957\n",
            "INFO:tensorflow:loss = 1.0430877, step = 700 (0.247 sec)\n",
            "INFO:tensorflow:global_step/sec: 412.536\n",
            "INFO:tensorflow:loss = 1.103325, step = 800 (0.242 sec)\n",
            "INFO:tensorflow:global_step/sec: 412.075\n",
            "INFO:tensorflow:loss = 0.92503375, step = 900 (0.242 sec)\n",
            "INFO:tensorflow:Saving checkpoints for 1000 into /tmp/tmpud5xeuqm/model.ckpt.\n",
            "INFO:tensorflow:Loss for final step: 0.8514454.\n"
          ],
          "name": "stdout"
        },
        {
          "output_type": "execute_result",
          "data": {
            "text/plain": [
              "<tensorflow.python.estimator.estimator.Estimator at 0x7fbf85a5cc50>"
            ]
          },
          "metadata": {
            "tags": []
          },
          "execution_count": 47
        }
      ]
    },
    {
      "metadata": {
        "id": "k5l19BNC-GWL",
        "colab_type": "text"
      },
      "cell_type": "markdown",
      "source": [
        "## Predict"
      ]
    },
    {
      "metadata": {
        "id": "BJU7oAId3co1",
        "colab_type": "code",
        "colab": {
          "base_uri": "https://localhost:8080/",
          "height": 224
        },
        "outputId": "f4725ea9-a6bb-4315-e176-94fa6df897e3"
      },
      "cell_type": "code",
      "source": [
        "# Define the input function for evaluating\n",
        "input_fn = tf.estimator.inputs.numpy_input_fn(\n",
        "    x=mnist.test.images, y=mnist.test.labels,\n",
        "    batch_size=batch_size, shuffle=False)\n",
        "\n",
        "# Use the Estimator 'evaluate' method\n",
        "model.evaluate(input_fn)"
      ],
      "execution_count": 48,
      "outputs": [
        {
          "output_type": "stream",
          "text": [
            "INFO:tensorflow:Calling model_fn.\n",
            "INFO:tensorflow:Done calling model_fn.\n",
            "INFO:tensorflow:Starting evaluation at 2018-06-20-15:23:29\n",
            "INFO:tensorflow:Graph was finalized.\n",
            "INFO:tensorflow:Restoring parameters from /tmp/tmpud5xeuqm/model.ckpt-1000\n",
            "INFO:tensorflow:Running local_init_op.\n",
            "INFO:tensorflow:Done running local_init_op.\n",
            "INFO:tensorflow:Finished evaluation at 2018-06-20-15:23:29\n",
            "INFO:tensorflow:Saving dict for global step 1000: accuracy = 0.8136, global_step = 1000, loss = 0.9034724\n",
            "INFO:tensorflow:Saving 'checkpoint_path' summary for global step 1000: /tmp/tmpud5xeuqm/model.ckpt-1000\n"
          ],
          "name": "stdout"
        },
        {
          "output_type": "execute_result",
          "data": {
            "text/plain": [
              "{'accuracy': 0.8136, 'global_step': 1000, 'loss': 0.9034724}"
            ]
          },
          "metadata": {
            "tags": []
          },
          "execution_count": 48
        }
      ]
    }
  ]
}