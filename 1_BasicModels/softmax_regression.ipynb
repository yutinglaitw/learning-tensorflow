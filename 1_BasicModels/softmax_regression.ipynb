{
  "nbformat": 4,
  "nbformat_minor": 0,
  "metadata": {
    "colab": {
      "name": "softmax_regression.ipynb",
      "version": "0.3.2",
      "provenance": []
    },
    "kernelspec": {
      "name": "python3",
      "display_name": "Python 3"
    }
  },
  "cells": [
    {
      "cell_type": "markdown",
      "metadata": {
        "id": "view-in-github",
        "colab_type": "text"
      },
      "source": [
        "[View in Colaboratory](https://colab.research.google.com/github/yutinglaitw/learning-tensorflow/blob/master/BasicModels/softmax_regression.ipynb)"
      ]
    },
    {
      "metadata": {
        "id": "oh538avnoJuL",
        "colab_type": "text"
      },
      "cell_type": "markdown",
      "source": [
        "# Softmax Regression Example\n",
        "Softmax regression 常用於處理多分類問題，本範例以 MNIST 為例進行實作。\n"
      ]
    },
    {
      "metadata": {
        "id": "JIWhTLQjo3Lr",
        "colab_type": "text"
      },
      "cell_type": "markdown",
      "source": [
        "## Load MNIST dataset"
      ]
    },
    {
      "metadata": {
        "id": "eDdlrp3upamG",
        "colab_type": "code",
        "colab": {
          "base_uri": "https://localhost:8080/",
          "height": 136
        },
        "outputId": "927c05fe-380d-4f70-cf1a-cac09090d4bb"
      },
      "cell_type": "code",
      "source": [
        "from tensorflow.examples.tutorials.mnist import input_data\n",
        "\n",
        "mnist = input_data.read_data_sets(\"MNIST_data/\", one_hot=True)\n",
        "\n",
        "print(mnist.train.images.shape, mnist.train.labels.shape)\n",
        "print(mnist.test.images.shape, mnist.test.labels.shape)\n",
        "print(mnist.validation.images.shape, mnist.validation.labels.shape)"
      ],
      "execution_count": 3,
      "outputs": [
        {
          "output_type": "stream",
          "text": [
            "Extracting MNIST_data/train-images-idx3-ubyte.gz\n",
            "Extracting MNIST_data/train-labels-idx1-ubyte.gz\n",
            "Extracting MNIST_data/t10k-images-idx3-ubyte.gz\n",
            "Extracting MNIST_data/t10k-labels-idx1-ubyte.gz\n",
            "(55000, 784) (55000, 10)\n",
            "(10000, 784) (10000, 10)\n",
            "(5000, 784) (5000, 10)\n"
          ],
          "name": "stdout"
        }
      ]
    },
    {
      "metadata": {
        "id": "9A59GxF5qRfR",
        "colab_type": "text"
      },
      "cell_type": "markdown",
      "source": [
        "## Softmax regression\n",
        "\n",
        "feature = weight * x + bias \n",
        "\n",
        "y = softmax (weight * x + bias)"
      ]
    },
    {
      "metadata": {
        "id": "PdTkzm9jm-QP",
        "colab_type": "code",
        "colab": {}
      },
      "cell_type": "code",
      "source": [
        "import tensorflow as tf\n",
        "\n",
        "# Set variables\n",
        "x = tf.placeholder(tf.float32, [None, 784])\n",
        "W = tf.Variable(tf.zeros([784, 10]))\n",
        "b = tf.Variable(tf.zeros([10]))\n",
        "y2 = tf.placeholder(tf.float32, [None, 10])\n",
        "\n",
        "# Softmax function \n",
        "y = tf.nn.softmax(tf.matmul(x, W) + b)\n",
        "\n",
        "# Loss function (cross entropy)\n",
        "cross_entropy = tf.reduce_mean( -tf.reduce_sum( y2 * tf.log(y), 1 ))\n",
        "\n",
        "# Optimizer\n",
        "train_step = tf.train.GradientDescentOptimizer(0.5).minimize(cross_entropy)\n",
        "\n",
        "# Evaluate\n",
        "pred = tf.equal(tf.argmax(y, 1), tf.argmax(y2,1))\n",
        "accr = tf.reduce_mean(tf.cast(pred,  tf.float32))\n",
        "\n",
        "# Initialize the variables\n",
        "init = tf.global_variables_initializer()"
      ],
      "execution_count": 0,
      "outputs": []
    },
    {
      "metadata": {
        "id": "ADvT68YVrBnI",
        "colab_type": "text"
      },
      "cell_type": "markdown",
      "source": [
        "## Training"
      ]
    },
    {
      "metadata": {
        "id": "9axYi1bTqKjS",
        "colab_type": "code",
        "colab": {}
      },
      "cell_type": "code",
      "source": [
        "# Parameters of logistic regression\n",
        "training_epochs = 1\n",
        "batch_size = 100\n",
        "num_batch = 1000"
      ],
      "execution_count": 0,
      "outputs": []
    },
    {
      "metadata": {
        "id": "jUmLvdLvqQ60",
        "colab_type": "code",
        "colab": {
          "base_uri": "https://localhost:8080/",
          "height": 34
        },
        "outputId": "adaded4a-0f89-4f0c-8a2d-be6f322ba501"
      },
      "cell_type": "code",
      "source": [
        "# Training cycle\n",
        "with tf.Session() as sess:\n",
        "    sess.run(init)\n",
        "    for epoch in range(training_epochs):\n",
        "        for i in range(num_batch):\n",
        "            batch_xs, batch_ys = mnist.train.next_batch(batch_size)\n",
        "            sess.run(train_step, feed_dict={x: batch_xs, y2: batch_ys})\n",
        "            \n",
        "    # Test model\n",
        "    print (\"Accuracy: \", accr.eval({x: mnist.test.images, y2: mnist.test.labels}))"
      ],
      "execution_count": 23,
      "outputs": [
        {
          "output_type": "stream",
          "text": [
            "Accuracy:  0.9183\n"
          ],
          "name": "stdout"
        }
      ]
    }
  ]
}